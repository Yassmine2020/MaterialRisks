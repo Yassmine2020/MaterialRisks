{
 "cells": [
  {
   "cell_type": "code",
   "execution_count": 1,
   "metadata": {},
   "outputs": [],
   "source": [
    "import fitz  # PyMuPDF\n",
    "\n",
    "# Define the correct path to the PDF file\n",
    "pdf_path = \"mcs2024.pdf\"\n",
    "\n",
    "# Open the PDF file and extract text from page 33\n",
    "with fitz.open(pdf_path) as pdf:\n",
    "    page = pdf[0]  # Page 33 is index 32\n",
    "    text = page.get_text()\n",
    "\n",
    "text_list = text.split('\\n')"
   ]
  },
  {
   "cell_type": "code",
   "execution_count": 2,
   "metadata": {},
   "outputs": [
    {
     "data": {
      "text/plain": [
       "['U.S. Department of the Interior',\n",
       " 'U.S. Geological Survey',\n",
       " 'MINERAL COMMODITY ',\n",
       " 'SUMMARIES 2024',\n",
       " 'Silicon',\n",
       " 'Silver',\n",
       " 'Soda Ash',\n",
       " 'Stone',\n",
       " 'Strontium',\n",
       " 'Sulfur',\n",
       " 'Talc',\n",
       " 'Tantalum',\n",
       " 'Tellurium',\n",
       " 'Thallium',\n",
       " 'Thorium',\n",
       " 'Tin',\n",
       " 'Titanium',\n",
       " 'Tungsten',\n",
       " 'Vanadium',\n",
       " 'Vermiculite',\n",
       " 'Wollastonite',\n",
       " 'Yttrium',\n",
       " 'Zeolites',\n",
       " 'Zinc',\n",
       " 'Zirconium',\n",
       " 'Mercury',\n",
       " 'Mica',\n",
       " 'Molybdenum',\n",
       " 'Nickel',\n",
       " 'Niobium',\n",
       " 'Nitrogen',\n",
       " 'Palladium',\n",
       " 'Peat',\n",
       " 'Perlite',\n",
       " 'Phosphate Rock',\n",
       " 'Platinum',\n",
       " 'Potash',\n",
       " 'Pumice',\n",
       " 'Quartz',\n",
       " 'Rare Earths',\n",
       " 'Rhenium',\n",
       " 'Rubidium',\n",
       " 'Salt',\n",
       " 'Sand and Gravel',\n",
       " 'Scandium',\n",
       " 'Selenium',\n",
       " 'Fluorspar',\n",
       " 'Gallium',\n",
       " 'Garnet',\n",
       " 'Gemstones',\n",
       " 'Germanium',\n",
       " 'Gold',\n",
       " 'Graphite',\n",
       " 'Gypsum',\n",
       " 'Hafnium',\n",
       " 'Helium',\n",
       " 'Indium',\n",
       " 'Iodine',\n",
       " 'Iron and Steel',\n",
       " 'Iron Ore',\n",
       " 'Iron Oxide Pigments',\n",
       " 'Kyanite',\n",
       " 'Lead',\n",
       " 'Lime',\n",
       " 'Lithium',\n",
       " 'Magnesium',\n",
       " 'Manganese',\n",
       " 'Abrasives',\n",
       " 'Aluminum',\n",
       " 'Antimony',\n",
       " 'Arsenic',\n",
       " 'Asbestos',\n",
       " 'Barite',\n",
       " 'Bauxite',\n",
       " 'Beryllium',\n",
       " 'Bismuth',\n",
       " 'Boron',\n",
       " 'Bromine',\n",
       " 'Cadmium',\n",
       " 'Cement',\n",
       " 'Cesium',\n",
       " 'Chromium',\n",
       " 'Clays',\n",
       " 'Cobalt',\n",
       " 'Copper',\n",
       " 'Diamond',\n",
       " 'Diatomite',\n",
       " 'Feldspar',\n",
       " '']"
      ]
     },
     "execution_count": 2,
     "metadata": {},
     "output_type": "execute_result"
    }
   ],
   "source": [
    "text_list"
   ]
  },
  {
   "cell_type": "code",
   "execution_count": 3,
   "metadata": {},
   "outputs": [],
   "source": [
    "import pdfplumber\n",
    "\n",
    "def extract_word_positions(pdf_path, i):\n",
    "    word_positions = []\n",
    "    \n",
    "    with pdfplumber.open(pdf_path) as pdf:\n",
    "        # Only process page at index 33 (which is page 34)\n",
    "        page = pdf.pages[i]\n",
    "        words = page.extract_words()\n",
    "        for word in words:\n",
    "            word_info = {\n",
    "                'text': word['text'],\n",
    "                'x0': word['x0'],\n",
    "                'top': word['top'],\n",
    "                'x1': word['x1'],\n",
    "                'bottom': word['bottom'],\n",
    "                'page_number': i  # since we are only dealing with page 34\n",
    "            }\n",
    "            word_positions.append(word_info)\n",
    "    \n",
    "    return word_positions\n",
    "\n",
    "def group_words_by_sequence(word_positions):\n",
    "    sequences = []\n",
    "    current_sequence = {'size': None, 'words': []}\n",
    "    \n",
    "    for word in word_positions:\n",
    "        size = round(word['bottom'] - word['top'], 2)\n",
    "        \n",
    "        if current_sequence['size'] is None:\n",
    "            current_sequence['size'] = size\n",
    "        \n",
    "        if size == current_sequence['size']:\n",
    "            current_sequence['words'].append(word['text'])\n",
    "        else:\n",
    "            sequences.append(current_sequence)\n",
    "            current_sequence = {'size': size, 'words': [word['text']]}\n",
    "    \n",
    "    if current_sequence['words']:\n",
    "        sequences.append(current_sequence)\n",
    "    \n",
    "    return sequences"
   ]
  },
  {
   "cell_type": "code",
   "execution_count": 4,
   "metadata": {},
   "outputs": [
    {
     "name": "stdout",
     "output_type": "stream",
     "text": [
      "Group 1 - Words with size 12.0: ['U.S.', 'Department', 'of', 'the', 'Interior', 'U.S.', 'Geological', 'Survey']\n",
      "Group 2 - Words with size 36.0: ['MINERAL', 'COMMODITY', 'SUMMARIES', '2024']\n",
      "Group 3 - Words with size 12.0: ['Abrasives', 'Fluorspar', 'Mercury', 'Silicon', 'Aluminum', 'Gallium', 'Mica', 'Silver', 'Antimony', 'Garnet', 'Molybdenum', 'Soda', 'Ash', 'Arsenic', 'Gemstones', 'Nickel', 'Stone', 'Asbestos', 'Germanium', 'Niobium', 'Strontium', 'Barite', 'Gold', 'Nitrogen', 'Sulfur', 'Bauxite', 'Graphite', 'Palladium', 'Talc', 'Beryllium', 'Gypsum', 'Peat', 'Tantalum', 'Bismuth', 'Hafnium', 'Perlite', 'Tellurium', 'Boron', 'Helium', 'Phosphate', 'Rock', 'Thallium', 'Bromine', 'Indium', 'Platinum', 'Thorium', 'Cadmium', 'Iodine', 'Potash', 'Tin', 'Cement', 'Iron', 'and', 'Steel', 'Pumice', 'Titanium', 'Cesium', 'Iron', 'Ore', 'Quartz', 'Tungsten', 'Chromium', 'Iron', 'Oxide', 'Pigments', 'Rare', 'Earths', 'Vanadium', 'Clays', 'Kyanite', 'Rhenium', 'Vermiculite', 'Cobalt', 'Lead', 'Rubidium', 'Wollastonite', 'Copper', 'Lime', 'Salt', 'Yttrium', 'Diamond', 'Lithium', 'Sand', 'and', 'Gravel', 'Zeolites', 'Diatomite', 'Magnesium', 'Scandium', 'Zinc', 'Feldspar', 'Manganese', 'Selenium', 'Zirconium']\n"
     ]
    }
   ],
   "source": [
    "pdf_path = 'mcs2024.pdf'\n",
    "positions = extract_word_positions(pdf_path, 0)\n",
    "sequences = group_words_by_sequence(positions)\n",
    "\n",
    "# Display the grouped word sequences\n",
    "for i, seq in enumerate(sequences):\n",
    "    print(f\"Group {i+1} - Words with size {seq['size']}: {seq['words']}\")"
   ]
  },
  {
   "cell_type": "code",
   "execution_count": 5,
   "metadata": {},
   "outputs": [],
   "source": [
    "materials = sequences[2]['words']"
   ]
  },
  {
   "cell_type": "code",
   "execution_count": 6,
   "metadata": {},
   "outputs": [
    {
     "data": {
      "text/plain": [
       "94"
      ]
     },
     "execution_count": 6,
     "metadata": {},
     "output_type": "execute_result"
    }
   ],
   "source": [
    "len(materials)"
   ]
  },
  {
   "cell_type": "code",
   "execution_count": 7,
   "metadata": {},
   "outputs": [
    {
     "data": {
      "text/plain": [
       "['Abrasives',\n",
       " 'Fluorspar',\n",
       " 'Mercury',\n",
       " 'Silicon',\n",
       " 'Aluminum',\n",
       " 'Gallium',\n",
       " 'Mica',\n",
       " 'Silver',\n",
       " 'Antimony',\n",
       " 'Garnet',\n",
       " 'Molybdenum',\n",
       " 'Soda',\n",
       " 'Ash',\n",
       " 'Arsenic',\n",
       " 'Gemstones',\n",
       " 'Nickel',\n",
       " 'Stone',\n",
       " 'Asbestos',\n",
       " 'Germanium',\n",
       " 'Niobium',\n",
       " 'Strontium',\n",
       " 'Barite',\n",
       " 'Gold',\n",
       " 'Nitrogen',\n",
       " 'Sulfur',\n",
       " 'Bauxite',\n",
       " 'Graphite',\n",
       " 'Palladium',\n",
       " 'Talc',\n",
       " 'Beryllium',\n",
       " 'Gypsum',\n",
       " 'Peat',\n",
       " 'Tantalum',\n",
       " 'Bismuth',\n",
       " 'Hafnium',\n",
       " 'Perlite',\n",
       " 'Tellurium',\n",
       " 'Boron',\n",
       " 'Helium',\n",
       " 'Phosphate',\n",
       " 'Rock',\n",
       " 'Thallium',\n",
       " 'Bromine',\n",
       " 'Indium',\n",
       " 'Platinum',\n",
       " 'Thorium',\n",
       " 'Cadmium',\n",
       " 'Iodine',\n",
       " 'Potash',\n",
       " 'Tin',\n",
       " 'Cement',\n",
       " 'Iron',\n",
       " 'and',\n",
       " 'Steel',\n",
       " 'Pumice',\n",
       " 'Titanium',\n",
       " 'Cesium',\n",
       " 'Iron',\n",
       " 'Ore',\n",
       " 'Quartz',\n",
       " 'Tungsten',\n",
       " 'Chromium',\n",
       " 'Iron',\n",
       " 'Oxide',\n",
       " 'Pigments',\n",
       " 'Rare',\n",
       " 'Earths',\n",
       " 'Vanadium',\n",
       " 'Clays',\n",
       " 'Kyanite',\n",
       " 'Rhenium',\n",
       " 'Vermiculite',\n",
       " 'Cobalt',\n",
       " 'Lead',\n",
       " 'Rubidium',\n",
       " 'Wollastonite',\n",
       " 'Copper',\n",
       " 'Lime',\n",
       " 'Salt',\n",
       " 'Yttrium',\n",
       " 'Diamond',\n",
       " 'Lithium',\n",
       " 'Sand',\n",
       " 'and',\n",
       " 'Gravel',\n",
       " 'Zeolites',\n",
       " 'Diatomite',\n",
       " 'Magnesium',\n",
       " 'Scandium',\n",
       " 'Zinc',\n",
       " 'Feldspar',\n",
       " 'Manganese',\n",
       " 'Selenium',\n",
       " 'Zirconium']"
      ]
     },
     "execution_count": 7,
     "metadata": {},
     "output_type": "execute_result"
    }
   ],
   "source": [
    "materials"
   ]
  },
  {
   "cell_type": "code",
   "execution_count": 8,
   "metadata": {},
   "outputs": [],
   "source": [
    "## split data into parts (2 pages generally!)\n",
    "\n",
    "# spot the title:\n"
   ]
  },
  {
   "cell_type": "code",
   "execution_count": 17,
   "metadata": {},
   "outputs": [],
   "source": [
    "import pdfplumber\n",
    "import re\n",
    "\n",
    "# Liste des éléments à rechercher\n",
    "# elements = ['Abrasives',\n",
    "#  'Fluorspar',\n",
    "#  'Mercury',\n",
    "#  'Silicon',\n",
    "#  'Aluminum',\n",
    "#  'Gallium',\n",
    "#  'Mica',\n",
    "#  'Silver',\n",
    "#  'Antimony',\n",
    "#  'Garnet',\n",
    "#  'Molybdenum',\n",
    "#  'Soda',\n",
    "#  'Ash',\n",
    "#  'Arsenic',\n",
    "#  'Gemstones',\n",
    "#  'Nickel',\n",
    "#  'Stone',\n",
    "#  'Asbestos',\n",
    "#  'Germanium',\n",
    "#  'Niobium',\n",
    "#  'Strontium',\n",
    "#  'Barite',\n",
    "#  'Gold',\n",
    "#  'Nitrogen',\n",
    "#  'Sulfur',] \n",
    "\n",
    "elements = materials\n",
    "\n",
    "def extract_largest_text(page):\n",
    "    words = page.extract_words()\n",
    "    if not words:\n",
    "        return \"\"\n",
    "    \n",
    "    # Trouver la taille de police la plus grande\n",
    "    largest_size = max(words, key=lambda w: (w['bottom'] - w['top']))['bottom'] - max(words, key=lambda w: (w['bottom'] - w['top']))['top']\n",
    "    \n",
    "    # Récupérer les mots ayant la plus grande taille de police\n",
    "    largest_words = [word['text'] for word in words if (word['bottom'] - word['top']) == largest_size]\n",
    "    \n",
    "    # Combiner les mots en une seule chaîne de texte\n",
    "    largest_text = ' '.join(largest_words)\n",
    "    return largest_text\n",
    "\n",
    "# def match_element_in_text(elements, text):\n",
    "#     text = text.lower()  # Convertir le texte en minuscule pour correspondre de manière insensible à la casse\n",
    "#     for element in elements:\n",
    "#         # Créer une expression régulière pour correspondre à l'élément avec des préfixes et suffixes possibles\n",
    "#         regex = r'(\\b\\w*\\s*)?' + re.escape(element.lower()) + r'(\\s*\\w*\\b)?'\n",
    "#         if re.search(regex, text):\n",
    "#             return element\n",
    "#     return None\n",
    "\n",
    "def match_element_in_text(elements, text):\n",
    "    text = text.lower()  # Convertir le texte en minuscule pour correspondre de manière insensible à la casse\n",
    "    for element in elements:\n",
    "        # Créer une expression régulière pour correspondre à l'élément, permettant des préfixes et suffixes\n",
    "        regex = re.compile(re.escape(element.lower()), re.IGNORECASE)\n",
    "        if regex.search(text):\n",
    "            return element\n",
    "    return None"
   ]
  },
  {
   "cell_type": "code",
   "execution_count": 27,
   "metadata": {},
   "outputs": [
    {
     "name": "stdout",
     "output_type": "stream",
     "text": [
      "Element: Abrasives, Pages: [33, 34]\n",
      "Element: Aluminum, Pages: [35, 36]\n",
      "Element: Antimony, Pages: [37, 38]\n",
      "Element: Arsenic, Pages: [39, 40]\n",
      "Element: Asbestos, Pages: [41, 42]\n",
      "Element: Barite, Pages: [43, 44]\n"
     ]
    }
   ],
   "source": [
    "# Ouvrir le PDF\n",
    "with pdfplumber.open(\"mcs2024.pdf\") as pdf:\n",
    "    # Dictionnaire pour stocker les pages correspondant à chaque élément\n",
    "    pdf_sections = {element: [] for element in elements}\n",
    "    \n",
    "    # Parcourir chaque page du PDF\n",
    "    for i in range(33, 45):\n",
    "        page = pdf.pages[i]\n",
    "        largest_text = extract_largest_text(page)\n",
    "        # print(f'▶️ largest_text: {largest_text}')\n",
    "        \n",
    "        # Vérifier si l'un des éléments est dans le texte de la page\n",
    "        matched_element = match_element_in_text(elements, largest_text)\n",
    "        if matched_element:\n",
    "            pdf_sections[matched_element].append(i)  # Les pages sont indexées à partir de 1 dans les PDF\n",
    "\n",
    "# Afficher les résultats\n",
    "for element, pages in pdf_sections.items():\n",
    "    if pages:\n",
    "        print(f\"Element: {element}, Pages: {pages}\")"
   ]
  },
  {
   "cell_type": "code",
   "execution_count": 25,
   "metadata": {},
   "outputs": [
    {
     "data": {
      "text/plain": [
       "{'Abrasives': [33, 34],\n",
       " 'Fluorspar': [],\n",
       " 'Mercury': [],\n",
       " 'Silicon': [],\n",
       " 'Aluminum': [35, 36],\n",
       " 'Gallium': [],\n",
       " 'Mica': [],\n",
       " 'Silver': [],\n",
       " 'Antimony': [37, 38],\n",
       " 'Garnet': [],\n",
       " 'Molybdenum': [],\n",
       " 'Soda': [],\n",
       " 'Ash': [],\n",
       " 'Arsenic': [39, 40],\n",
       " 'Gemstones': [],\n",
       " 'Nickel': [],\n",
       " 'Stone': [],\n",
       " 'Asbestos': [41, 42],\n",
       " 'Germanium': [],\n",
       " 'Niobium': [],\n",
       " 'Strontium': [],\n",
       " 'Barite': [43, 44],\n",
       " 'Gold': [],\n",
       " 'Nitrogen': [],\n",
       " 'Sulfur': [],\n",
       " 'Bauxite': [46],\n",
       " 'Graphite': [],\n",
       " 'Palladium': [],\n",
       " 'Talc': [],\n",
       " 'Beryllium': [47, 48],\n",
       " 'Gypsum': [],\n",
       " 'Peat': [],\n",
       " 'Tantalum': [],\n",
       " 'Bismuth': [49, 50],\n",
       " 'Hafnium': [],\n",
       " 'Perlite': [],\n",
       " 'Tellurium': [],\n",
       " 'Boron': [51, 52],\n",
       " 'Helium': [],\n",
       " 'Phosphate': [],\n",
       " 'Rock': [],\n",
       " 'Thallium': [],\n",
       " 'Bromine': [53, 54],\n",
       " 'Indium': [],\n",
       " 'Platinum': [],\n",
       " 'Thorium': [],\n",
       " 'Cadmium': [55, 56],\n",
       " 'Iodine': [],\n",
       " 'Potash': [],\n",
       " 'Tin': [],\n",
       " 'Cement': [57, 58],\n",
       " 'Iron': [],\n",
       " 'and': [],\n",
       " 'Steel': [],\n",
       " 'Pumice': [],\n",
       " 'Titanium': [],\n",
       " 'Cesium': [59],\n",
       " 'Ore': [],\n",
       " 'Quartz': [],\n",
       " 'Tungsten': [],\n",
       " 'Chromium': [],\n",
       " 'Oxide': [],\n",
       " 'Pigments': [],\n",
       " 'Rare': [],\n",
       " 'Earths': [],\n",
       " 'Vanadium': [],\n",
       " 'Clays': [],\n",
       " 'Kyanite': [],\n",
       " 'Rhenium': [],\n",
       " 'Vermiculite': [],\n",
       " 'Cobalt': [],\n",
       " 'Lead': [],\n",
       " 'Rubidium': [],\n",
       " 'Wollastonite': [],\n",
       " 'Copper': [],\n",
       " 'Lime': [],\n",
       " 'Salt': [],\n",
       " 'Yttrium': [],\n",
       " 'Diamond': [],\n",
       " 'Lithium': [],\n",
       " 'Sand': [],\n",
       " 'Gravel': [],\n",
       " 'Zeolites': [],\n",
       " 'Diatomite': [],\n",
       " 'Magnesium': [],\n",
       " 'Scandium': [],\n",
       " 'Zinc': [],\n",
       " 'Feldspar': [],\n",
       " 'Manganese': [],\n",
       " 'Selenium': [],\n",
       " 'Zirconium': []}"
      ]
     },
     "execution_count": 25,
     "metadata": {},
     "output_type": "execute_result"
    }
   ],
   "source": [
    "pdf_sections"
   ]
  },
  {
   "cell_type": "code",
   "execution_count": 26,
   "metadata": {},
   "outputs": [
    {
     "data": {
      "text/plain": [
       "77"
      ]
     },
     "execution_count": 26,
     "metadata": {},
     "output_type": "execute_result"
    }
   ],
   "source": [
    "# nombre_de_listes_vides = sum(1 for pages in pdf_sections.values() if not pages)\n",
    "# nombre_de_listes_vides"
   ]
  },
  {
   "cell_type": "code",
   "execution_count": 29,
   "metadata": {},
   "outputs": [
    {
     "data": {
      "text/plain": [
       "{'Abrasives': [33, 34],\n",
       " 'Aluminum': [35, 36],\n",
       " 'Antimony': [37, 38],\n",
       " 'Arsenic': [39, 40],\n",
       " 'Asbestos': [41, 42],\n",
       " 'Barite': [43, 44]}"
      ]
     },
     "execution_count": 29,
     "metadata": {},
     "output_type": "execute_result"
    }
   ],
   "source": [
    "pdf_restric = {key: value for key, value in pdf_sections.items() if value}\n",
    "\n",
    "pdf_restric"
   ]
  },
  {
   "cell_type": "code",
   "execution_count": 30,
   "metadata": {},
   "outputs": [
    {
     "name": "stdout",
     "output_type": "stream",
     "text": [
      "Data saved to pdf_restric.json\n"
     ]
    }
   ],
   "source": [
    "import json\n",
    "\n",
    "# Define the filename for the JSON file\n",
    "json_filename = 'pdf_restric.json'\n",
    "\n",
    "# Write the pdf_restric dictionary to a JSON file\n",
    "with open(json_filename, 'w') as json_file:\n",
    "    json.dump(pdf_restric, json_file, indent=4)\n",
    "\n",
    "print(f\"Data saved to {json_filename}\")"
   ]
  }
 ],
 "metadata": {
  "kernelspec": {
   "display_name": "venvRi",
   "language": "python",
   "name": "python3"
  },
  "language_info": {
   "codemirror_mode": {
    "name": "ipython",
    "version": 3
   },
   "file_extension": ".py",
   "mimetype": "text/x-python",
   "name": "python",
   "nbconvert_exporter": "python",
   "pygments_lexer": "ipython3",
   "version": "3.10.0"
  }
 },
 "nbformat": 4,
 "nbformat_minor": 2
}
